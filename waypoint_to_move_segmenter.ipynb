{
  "nbformat": 4,
  "nbformat_minor": 0,
  "metadata": {
    "colab": {
      "provenance": []
    },
    "kernelspec": {
      "name": "python3",
      "display_name": "Python 3"
    },
    "language_info": {
      "name": "python"
    }
  },
  "cells": [
    {
      "cell_type": "code",
      "execution_count": 2,
      "metadata": {
        "id": "m7xXXKJzpEjx",
        "colab": {
          "base_uri": "https://localhost:8080/"
        },
        "outputId": "84c823a0-92fb-4891-a3fd-3b1437c74a02"
      },
      "outputs": [
        {
          "output_type": "stream",
          "name": "stdout",
          "text": [
            "[[0, 11]]\n",
            "['f']\n",
            "[[[12.2, 100, 0.1], [5.8, -58.0, 0.1]]]\n"
          ]
        }
      ],
      "source": [
        "#Complex path segmenter\n",
        "import math as m\n",
        "\n",
        "\n",
        "#Global Parameters:\n",
        "left_classification_boundries=[-90,-30] #Left min angle, max angle\n",
        "right_classification_boundries=[30,90] #Right min angle, max angle\n",
        "forward_classification_boundries=[-30,30] #Forward min angle, max angle\n",
        "\n",
        "num_clusters=1 #Less clusters -> Wider consideration of moves during concentration; More clusters -> Narrower consideration -> Less moves ignored\n",
        "\n",
        "#Example waypoint list\n",
        "#waypoint_list=[(0,0,30),(1,1,32),(2,2,35),(3,3,45),(4,4,45),(5,5,20),(6,6,0),(7,7,-20),(8,8,-40),(9,9,-60),(10,10,-40),(11,11,-20),(12,12,-20),(13,13,0),(14,14,20),(15,15,40),(16,16,60),(17,17,80),(18,18,85),(19,19,85),(20,20,-10),(21,21,-110),(22,22,0),(23,23,-180)]\n",
        "\n",
        "def theta(x0,x1,y0,y1):\n",
        "  deltax=x1-x0\n",
        "  deltay=y1-y0\n",
        "  theta=m.degrees(m.atan2(deltay,deltax))\n",
        "  if theta<0:\n",
        "    theta+=360\n",
        "  return theta\n",
        "\n",
        "#Note: this might not be exactly how theta is formatted, can be retroactively changed\n",
        "def get_thetas(waypoint_list):\n",
        "  #calculate theta for each waypoint (angle required to go to next waypoint)\n",
        "  n=len(waypoint_list)\n",
        "  thetas=[]\n",
        "  for i in range(n-1):\n",
        "    x0,y0,_=waypoint_list[i]\n",
        "    x1,y1,_=waypoint_list[i+1]\n",
        "    thetas.append(theta(x0,x1,y0,y1))\n",
        "  thetas.append(thetas[-1])\n",
        "  #calculate difference between thetas to get yaw (assuming first move is going direct ahead)\n",
        "  yaw=[]\n",
        "  yaw.append(0)\n",
        "  for i in range(n-1):\n",
        "    yaw.append(thetas[i]-thetas[i+1])\n",
        "  return yaw\n",
        "\n",
        "def distinguish_moves(thetas):\n",
        "  move_list=[]\n",
        "  for i in range(len(thetas)):\n",
        "    if (thetas[i]<left_classification_boundries[1])and(thetas[i]>left_classification_boundries[0]):\n",
        "      move_list.append('l')\n",
        "    elif (thetas[i]>right_classification_boundries[0])and(thetas[i]<right_classification_boundries[1]):\n",
        "      move_list.append('r')\n",
        "    elif (thetas[i]<=forward_classification_boundries[1])and(thetas[i]>=forward_classification_boundries[0]):\n",
        "      move_list.append('f')\n",
        "    else:\n",
        "      move_list.append('b')\n",
        "  return move_list\n",
        "\n",
        "\n",
        "def most_common(input_list,classes):\n",
        "  classes_count=[0]*len(classes)\n",
        "  for i in range(len(input_list)):\n",
        "    if input_list[i] in classes:\n",
        "      idx=classes.index(input_list[i])\n",
        "      classes_count[idx]+=1\n",
        "  return classes[classes_count.index(max(classes_count))]\n",
        "\n",
        "\n",
        "def concentrate_moves(move_list,num_clusters=10,classes=['f','b','l','r']):\n",
        "  new_move_list=[]\n",
        "  coord_list=[]\n",
        "  cluster_size=len(move_list)/num_clusters\n",
        "  for i in range(num_clusters):\n",
        "    if i==num_clusters:\n",
        "      most_common_move=most_common(move_list[m.ceil(i*cluster_size):],classes)\n",
        "      new_move_list.append(most_common_move)\n",
        "      coord_list.append([m.ceil(i*cluster_size),len(move_list)])\n",
        "    else:\n",
        "      most_common_move=most_common(move_list[m.ceil(i*cluster_size):m.ceil((i+1)*cluster_size)],classes)\n",
        "      new_move_list.append(most_common_move)\n",
        "      coord_list.append([m.ceil(i*cluster_size),m.ceil((i+1)*cluster_size-1)])\n",
        "  return new_move_list,coord_list\n",
        "\n",
        "def get_final_move_list(concentrated_move_list,coord_list):\n",
        "  final_move_list=[]\n",
        "  final_coord_list=[]\n",
        "  final_coord_list.append([0,0])\n",
        "  final_move_list.append(concentrated_move_list[0])\n",
        "  prevMove=concentrated_move_list[0]\n",
        "  for i in range(len(concentrated_move_list)):\n",
        "    if concentrated_move_list[i]==prevMove:\n",
        "      final_coord_list[-1][1]=coord_list[i][1]\n",
        "    else:\n",
        "      final_coord_list.append([coord_list[i][0],coord_list[i][1]])\n",
        "      final_move_list.append(concentrated_move_list[i])\n",
        "      prevMove=concentrated_move_list[i]\n",
        "  return final_move_list,final_coord_list\n",
        "\n",
        "\n",
        "def waypoint_to_move_segmenter(waypoint_list):\n",
        "  thetas=get_thetas(waypoint_list)\n",
        "  final_coord_list=[]\n",
        "  move_list=distinguish_moves(thetas)\n",
        "  concentrated_move_list,coord_list=concentrate_moves(move_list,num_clusters)\n",
        "  final_move_list,final_coord_idx_list=get_final_move_list(concentrated_move_list,coord_list)\n",
        "  for idx_group in final_coord_idx_list:\n",
        "    final_coord_list.append([waypoint_list[idx_group[0]],waypoint_list[idx_group[1]]])\n",
        "  print(final_coord_idx_list)\n",
        "  return final_move_list,final_coord_list\n",
        "\n",
        "waypoint_list=[[12.2, 100, 0.1], [12.2, 73.69289494765717, 0.1], [12.2, 65.69289494765717, 0.1], [12.2, 47.156303298864046, 0.1], [9.0, 39.156303298864046, 0.1], [9.0, 20.214965321004833, 0.1], [5.8, 12.214965321004833, 0.1], [5.8, -7.119680647092032, 0.1], [5.8, -15.119680647092032, 0.1], [5.8, -38.99864048452869, 0.1], [5.8, -46.99864048452869, 0.1], [5.8, -58.0, 0.1]]\n",
        "final_move_list,final_coord_list=waypoint_to_move_segmenter(waypoint_list)\n",
        "print(final_move_list)\n",
        "print(final_coord_list)\n"
      ]
    },
    {
      "cell_type": "code",
      "source": [],
      "metadata": {
        "id": "aF7iyH0wSrm3",
        "colab": {
          "base_uri": "https://localhost:8080/"
        },
        "outputId": "e2a417fb-848b-4496-ec5d-a2000c7828e1"
      },
      "execution_count": null,
      "outputs": [
        {
          "output_type": "execute_result",
          "data": {
            "text/plain": [
              "135.0"
            ]
          },
          "metadata": {},
          "execution_count": 22
        }
      ]
    }
  ]
}